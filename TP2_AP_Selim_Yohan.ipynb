{
 "cells": [
  {
   "cell_type": "code",
   "execution_count": 430,
   "id": "f2e23eb0",
   "metadata": {},
   "outputs": [
    {
     "data": {
      "text/html": [
       "<div>\n",
       "<style scoped>\n",
       "    .dataframe tbody tr th:only-of-type {\n",
       "        vertical-align: middle;\n",
       "    }\n",
       "\n",
       "    .dataframe tbody tr th {\n",
       "        vertical-align: top;\n",
       "    }\n",
       "\n",
       "    .dataframe thead th {\n",
       "        text-align: right;\n",
       "    }\n",
       "</style>\n",
       "<table border=\"1\" class=\"dataframe\">\n",
       "  <thead>\n",
       "    <tr style=\"text-align: right;\">\n",
       "      <th></th>\n",
       "      <th>buying price</th>\n",
       "      <th>maintenance cost</th>\n",
       "      <th>number of doors</th>\n",
       "      <th>number of persons</th>\n",
       "      <th>lug_boot</th>\n",
       "      <th>safety</th>\n",
       "      <th>decision</th>\n",
       "    </tr>\n",
       "  </thead>\n",
       "  <tbody>\n",
       "    <tr>\n",
       "      <th>0</th>\n",
       "      <td>vhigh</td>\n",
       "      <td>vhigh</td>\n",
       "      <td>2</td>\n",
       "      <td>2</td>\n",
       "      <td>small</td>\n",
       "      <td>low</td>\n",
       "      <td>unacc</td>\n",
       "    </tr>\n",
       "    <tr>\n",
       "      <th>1</th>\n",
       "      <td>vhigh</td>\n",
       "      <td>vhigh</td>\n",
       "      <td>2</td>\n",
       "      <td>2</td>\n",
       "      <td>small</td>\n",
       "      <td>med</td>\n",
       "      <td>unacc</td>\n",
       "    </tr>\n",
       "    <tr>\n",
       "      <th>2</th>\n",
       "      <td>vhigh</td>\n",
       "      <td>vhigh</td>\n",
       "      <td>2</td>\n",
       "      <td>2</td>\n",
       "      <td>small</td>\n",
       "      <td>high</td>\n",
       "      <td>unacc</td>\n",
       "    </tr>\n",
       "    <tr>\n",
       "      <th>3</th>\n",
       "      <td>vhigh</td>\n",
       "      <td>vhigh</td>\n",
       "      <td>2</td>\n",
       "      <td>2</td>\n",
       "      <td>med</td>\n",
       "      <td>low</td>\n",
       "      <td>unacc</td>\n",
       "    </tr>\n",
       "    <tr>\n",
       "      <th>4</th>\n",
       "      <td>vhigh</td>\n",
       "      <td>vhigh</td>\n",
       "      <td>2</td>\n",
       "      <td>2</td>\n",
       "      <td>med</td>\n",
       "      <td>med</td>\n",
       "      <td>unacc</td>\n",
       "    </tr>\n",
       "    <tr>\n",
       "      <th>5</th>\n",
       "      <td>vhigh</td>\n",
       "      <td>vhigh</td>\n",
       "      <td>2</td>\n",
       "      <td>2</td>\n",
       "      <td>med</td>\n",
       "      <td>high</td>\n",
       "      <td>unacc</td>\n",
       "    </tr>\n",
       "    <tr>\n",
       "      <th>6</th>\n",
       "      <td>vhigh</td>\n",
       "      <td>vhigh</td>\n",
       "      <td>2</td>\n",
       "      <td>2</td>\n",
       "      <td>big</td>\n",
       "      <td>low</td>\n",
       "      <td>unacc</td>\n",
       "    </tr>\n",
       "    <tr>\n",
       "      <th>7</th>\n",
       "      <td>vhigh</td>\n",
       "      <td>vhigh</td>\n",
       "      <td>2</td>\n",
       "      <td>2</td>\n",
       "      <td>big</td>\n",
       "      <td>med</td>\n",
       "      <td>unacc</td>\n",
       "    </tr>\n",
       "    <tr>\n",
       "      <th>8</th>\n",
       "      <td>vhigh</td>\n",
       "      <td>vhigh</td>\n",
       "      <td>2</td>\n",
       "      <td>2</td>\n",
       "      <td>big</td>\n",
       "      <td>high</td>\n",
       "      <td>unacc</td>\n",
       "    </tr>\n",
       "    <tr>\n",
       "      <th>9</th>\n",
       "      <td>vhigh</td>\n",
       "      <td>vhigh</td>\n",
       "      <td>2</td>\n",
       "      <td>4</td>\n",
       "      <td>small</td>\n",
       "      <td>low</td>\n",
       "      <td>unacc</td>\n",
       "    </tr>\n",
       "  </tbody>\n",
       "</table>\n",
       "</div>"
      ],
      "text/plain": [
       "  buying price maintenance cost number of doors number of persons lug_boot  \\\n",
       "0        vhigh            vhigh               2                 2    small   \n",
       "1        vhigh            vhigh               2                 2    small   \n",
       "2        vhigh            vhigh               2                 2    small   \n",
       "3        vhigh            vhigh               2                 2      med   \n",
       "4        vhigh            vhigh               2                 2      med   \n",
       "5        vhigh            vhigh               2                 2      med   \n",
       "6        vhigh            vhigh               2                 2      big   \n",
       "7        vhigh            vhigh               2                 2      big   \n",
       "8        vhigh            vhigh               2                 2      big   \n",
       "9        vhigh            vhigh               2                 4    small   \n",
       "\n",
       "  safety decision  \n",
       "0    low    unacc  \n",
       "1    med    unacc  \n",
       "2   high    unacc  \n",
       "3    low    unacc  \n",
       "4    med    unacc  \n",
       "5   high    unacc  \n",
       "6    low    unacc  \n",
       "7    med    unacc  \n",
       "8   high    unacc  \n",
       "9    low    unacc  "
      ]
     },
     "execution_count": 430,
     "metadata": {},
     "output_type": "execute_result"
    }
   ],
   "source": [
    "from sklearn import tree \n",
    "clf = tree.DecisionTreeClassifier() \n",
    "import pandas as pd\n",
    "import numpy as np\n",
    "\n",
    "\n",
    "car = pd.read_csv(\"car_evaluation.csv\")\n",
    "#We can check the first five samples of the data:\n",
    "car.head(10)"
   ]
  },
  {
   "cell_type": "code",
   "execution_count": 431,
   "id": "2a6dd705",
   "metadata": {},
   "outputs": [
    {
     "data": {
      "text/html": [
       "<div>\n",
       "<style scoped>\n",
       "    .dataframe tbody tr th:only-of-type {\n",
       "        vertical-align: middle;\n",
       "    }\n",
       "\n",
       "    .dataframe tbody tr th {\n",
       "        vertical-align: top;\n",
       "    }\n",
       "\n",
       "    .dataframe thead th {\n",
       "        text-align: right;\n",
       "    }\n",
       "</style>\n",
       "<table border=\"1\" class=\"dataframe\">\n",
       "  <thead>\n",
       "    <tr style=\"text-align: right;\">\n",
       "      <th></th>\n",
       "      <th>buying price</th>\n",
       "      <th>maintenance cost</th>\n",
       "      <th>number of doors</th>\n",
       "      <th>lug_boot</th>\n",
       "      <th>safety</th>\n",
       "    </tr>\n",
       "  </thead>\n",
       "  <tbody>\n",
       "    <tr>\n",
       "      <th>0</th>\n",
       "      <td>vhigh</td>\n",
       "      <td>vhigh</td>\n",
       "      <td>2</td>\n",
       "      <td>small</td>\n",
       "      <td>low</td>\n",
       "    </tr>\n",
       "    <tr>\n",
       "      <th>1</th>\n",
       "      <td>vhigh</td>\n",
       "      <td>vhigh</td>\n",
       "      <td>2</td>\n",
       "      <td>small</td>\n",
       "      <td>med</td>\n",
       "    </tr>\n",
       "    <tr>\n",
       "      <th>2</th>\n",
       "      <td>vhigh</td>\n",
       "      <td>vhigh</td>\n",
       "      <td>2</td>\n",
       "      <td>small</td>\n",
       "      <td>high</td>\n",
       "    </tr>\n",
       "    <tr>\n",
       "      <th>3</th>\n",
       "      <td>vhigh</td>\n",
       "      <td>vhigh</td>\n",
       "      <td>2</td>\n",
       "      <td>med</td>\n",
       "      <td>low</td>\n",
       "    </tr>\n",
       "    <tr>\n",
       "      <th>4</th>\n",
       "      <td>vhigh</td>\n",
       "      <td>vhigh</td>\n",
       "      <td>2</td>\n",
       "      <td>med</td>\n",
       "      <td>med</td>\n",
       "    </tr>\n",
       "    <tr>\n",
       "      <th>...</th>\n",
       "      <td>...</td>\n",
       "      <td>...</td>\n",
       "      <td>...</td>\n",
       "      <td>...</td>\n",
       "      <td>...</td>\n",
       "    </tr>\n",
       "    <tr>\n",
       "      <th>1723</th>\n",
       "      <td>low</td>\n",
       "      <td>low</td>\n",
       "      <td>5more</td>\n",
       "      <td>med</td>\n",
       "      <td>med</td>\n",
       "    </tr>\n",
       "    <tr>\n",
       "      <th>1724</th>\n",
       "      <td>low</td>\n",
       "      <td>low</td>\n",
       "      <td>5more</td>\n",
       "      <td>med</td>\n",
       "      <td>high</td>\n",
       "    </tr>\n",
       "    <tr>\n",
       "      <th>1725</th>\n",
       "      <td>low</td>\n",
       "      <td>low</td>\n",
       "      <td>5more</td>\n",
       "      <td>big</td>\n",
       "      <td>low</td>\n",
       "    </tr>\n",
       "    <tr>\n",
       "      <th>1726</th>\n",
       "      <td>low</td>\n",
       "      <td>low</td>\n",
       "      <td>5more</td>\n",
       "      <td>big</td>\n",
       "      <td>med</td>\n",
       "    </tr>\n",
       "    <tr>\n",
       "      <th>1727</th>\n",
       "      <td>low</td>\n",
       "      <td>low</td>\n",
       "      <td>5more</td>\n",
       "      <td>big</td>\n",
       "      <td>high</td>\n",
       "    </tr>\n",
       "  </tbody>\n",
       "</table>\n",
       "<p>1728 rows × 5 columns</p>\n",
       "</div>"
      ],
      "text/plain": [
       "     buying price maintenance cost number of doors lug_boot safety\n",
       "0           vhigh            vhigh               2    small    low\n",
       "1           vhigh            vhigh               2    small    med\n",
       "2           vhigh            vhigh               2    small   high\n",
       "3           vhigh            vhigh               2      med    low\n",
       "4           vhigh            vhigh               2      med    med\n",
       "...           ...              ...             ...      ...    ...\n",
       "1723          low              low           5more      med    med\n",
       "1724          low              low           5more      med   high\n",
       "1725          low              low           5more      big    low\n",
       "1726          low              low           5more      big    med\n",
       "1727          low              low           5more      big   high\n",
       "\n",
       "[1728 rows x 5 columns]"
      ]
     },
     "execution_count": 431,
     "metadata": {},
     "output_type": "execute_result"
    }
   ],
   "source": [
    "car[[\"buying price\", \"maintenance cost\", \"number of doors\", \"lug_boot\", \"safety\"]]"
   ]
  },
  {
   "cell_type": "code",
   "execution_count": 465,
   "id": "7748d989",
   "metadata": {},
   "outputs": [],
   "source": [
    "car2 = car.values\n",
    "\n",
    "X = []\n",
    "y = []\n",
    "unacc=0\n",
    "acc=0\n",
    "good=0\n",
    "vgood=0\n",
    "\n",
    "for ligne in car2:\n",
    "    X += [ligne[0:6]]\n",
    "    y += [ligne[6]]\n",
    "    \n",
    "    if ligne[6] == \"unacc\":\n",
    "        unacc += 1 \n",
    "    if ligne[6] == \"acc\":\n",
    "        acc += 1 \n",
    "    if ligne[6] == \"good\":\n",
    "        good += 1\n",
    "    if ligne[6] == \"vgood\":\n",
    "        vgood += 1 "
   ]
  },
  {
   "cell_type": "code",
   "execution_count": 466,
   "id": "eb7689f6",
   "metadata": {},
   "outputs": [
    {
     "name": "stdout",
     "output_type": "stream",
     "text": [
      "Nombre d'élement dans la classe unacc : 1210\n",
      "Nombre d'élement dans la classe acc : 384\n",
      "Nombre d'élement dans la classe good : 69\n",
      "Nombre d'élement dans la classe vgood : 65\n"
     ]
    }
   ],
   "source": [
    "print(\"Nombre d'élement dans la classe unacc :\",unacc)\n",
    "print(\"Nombre d'élement dans la classe acc :\",acc)\n",
    "print(\"Nombre d'élement dans la classe good :\",good)\n",
    "print(\"Nombre d'élement dans la classe vgood :\",vgood)"
   ]
  },
  {
   "cell_type": "code",
   "execution_count": 434,
   "id": "6b076022",
   "metadata": {},
   "outputs": [],
   "source": [
    "car_r = car.replace([\"low\", \"med\", \"high\", \"vhigh\", \"more\", \"5more\", \"small\", \"big\", \"unacc\",\n",
    "                     \"acc\", \"good\", \"vgood\", \"2\", \"3\", \"4\" ],\n",
    "            [1,2,3,4,5,5,1,3,1,2,3,4,2,3,4])"
   ]
  },
  {
   "cell_type": "code",
   "execution_count": 435,
   "id": "0513924b",
   "metadata": {},
   "outputs": [
    {
     "name": "stdout",
     "output_type": "stream",
     "text": [
      "[[4 4 2 ... 1 1 1]\n",
      " [4 4 2 ... 1 2 1]\n",
      " [4 4 2 ... 1 3 1]\n",
      " ...\n",
      " [1 1 5 ... 3 1 1]\n",
      " [1 1 5 ... 3 2 3]\n",
      " [1 1 5 ... 3 3 4]]\n"
     ]
    }
   ],
   "source": [
    "val = car_r.values\n",
    "\n",
    "print(val)"
   ]
  },
  {
   "cell_type": "code",
   "execution_count": 436,
   "id": "257c2109",
   "metadata": {},
   "outputs": [],
   "source": [
    "X = val[:,0:6]\n",
    "y = val[:,6]"
   ]
  },
  {
   "cell_type": "code",
   "execution_count": 437,
   "id": "b8fb5a62",
   "metadata": {},
   "outputs": [
    {
     "data": {
      "text/plain": [
       "(1728, 6)"
      ]
     },
     "execution_count": 437,
     "metadata": {},
     "output_type": "execute_result"
    }
   ],
   "source": [
    "X.shape"
   ]
  },
  {
   "cell_type": "code",
   "execution_count": 438,
   "id": "bcf1a9ac",
   "metadata": {},
   "outputs": [],
   "source": [
    "from sklearn.model_selection import train_test_split \n",
    "X_train,  X_test,  y_train,  y_test  =  train_test_split(X,  y,  train_size=0.7, \n",
    "random_state=0)"
   ]
  },
  {
   "cell_type": "code",
   "execution_count": 439,
   "id": "f3128eb2",
   "metadata": {},
   "outputs": [
    {
     "data": {
      "text/plain": [
       "(1209, 6)"
      ]
     },
     "execution_count": 439,
     "metadata": {},
     "output_type": "execute_result"
    }
   ],
   "source": [
    "X_train.shape"
   ]
  },
  {
   "cell_type": "code",
   "execution_count": 440,
   "id": "be59a6ef",
   "metadata": {},
   "outputs": [
    {
     "data": {
      "text/plain": [
       "DecisionTreeClassifier(max_depth=50)"
      ]
     },
     "execution_count": 440,
     "metadata": {},
     "output_type": "execute_result"
    }
   ],
   "source": [
    "from sklearn import tree \n",
    "clf = tree.DecisionTreeClassifier(max_depth=50, min_samples_leaf = 1) \n",
    "clf.fit(X_train, y_train)"
   ]
  },
  {
   "cell_type": "code",
   "execution_count": 441,
   "id": "ab396f9b",
   "metadata": {},
   "outputs": [
    {
     "data": {
      "text/plain": [
       "array([2, 1, 1, 1, 1, 3, 1, 2, 2, 1, 1, 1, 2, 1, 1, 2, 1, 1, 2, 1, 3, 2,\n",
       "       3, 1, 1, 1, 1, 1, 1, 1, 3, 2, 1, 2, 3, 1, 1, 1, 1, 1, 1, 1, 1, 1,\n",
       "       4, 1, 1, 2, 1, 1, 1, 1, 1, 1, 1, 1, 1, 1, 1, 1, 2, 1, 1, 1, 1, 2,\n",
       "       1, 1, 1, 1, 1, 2, 2, 2, 3, 2, 1, 1, 2, 1, 2, 2, 2, 1, 1, 1, 1, 3,\n",
       "       1, 1, 1, 2, 1, 1, 1, 4, 1, 2, 2, 1, 1, 1, 2, 1, 4, 2, 1, 2, 1, 1,\n",
       "       1, 1, 1, 2, 1, 3, 2, 1, 1, 1, 1, 1, 2, 1, 1, 1, 1, 2, 3, 1, 1, 1,\n",
       "       2, 1, 1, 1, 1, 1, 1, 1, 1, 1, 1, 2, 1, 1, 2, 1, 2, 2, 2, 2, 1, 1,\n",
       "       1, 2, 1, 1, 1, 1, 2, 1, 1, 1, 2, 1, 1, 1, 1, 1, 1, 1, 1, 1, 2, 1,\n",
       "       1, 1, 1, 1, 2, 2, 2, 1, 2, 1, 3, 1, 1, 1, 1, 2, 1, 1, 1, 2, 1, 3,\n",
       "       1, 1, 1, 1, 2, 1, 1, 1, 1, 1, 1, 1, 1, 2, 1, 1, 1, 1, 1, 2, 1, 1,\n",
       "       1, 2, 1, 4, 1, 1, 1, 4, 1, 1, 1, 1, 2, 1, 1, 1, 1, 1, 1, 1, 1, 1,\n",
       "       1, 1, 3, 1, 2, 1, 1, 1, 1, 1, 3, 2, 3, 2, 2, 1, 1, 1, 2, 1, 1, 2,\n",
       "       1, 1, 4, 1, 2, 1, 1, 1, 2, 1, 2, 1, 1, 1, 1, 1, 1, 1, 2, 1, 1, 2,\n",
       "       1, 4, 3, 1, 1, 1, 1, 1, 1, 1, 1, 1, 1, 2, 1, 2, 2, 3, 3, 1, 2, 1,\n",
       "       2, 1, 3, 2, 1, 1, 1, 1, 1, 1, 1, 2, 1, 1, 2, 1, 2, 1, 1, 1, 1, 1,\n",
       "       2, 1, 3, 1, 3, 1, 1, 1, 4, 1, 1, 4, 1, 2, 1, 2, 1, 1, 1, 1, 2, 1,\n",
       "       1, 2, 1, 1, 1, 2, 1, 2, 1, 2, 1, 1, 3, 4, 2, 2, 1, 4, 1, 1, 1, 2,\n",
       "       1, 1, 1, 3, 1, 2, 3, 1, 3, 1, 1, 1, 2, 1, 1, 1, 1, 1, 1, 4, 1, 1,\n",
       "       2, 1, 1, 2, 1, 2, 1, 1, 4, 1, 1, 1, 1, 2, 1, 1, 1, 1, 1, 1, 2, 2,\n",
       "       1, 2, 1, 3, 4, 1, 1, 1, 4, 1, 1, 2, 1, 2, 1, 1, 1, 1, 1, 1, 2, 2,\n",
       "       2, 1, 1, 1, 1, 1, 2, 1, 1, 1, 1, 1, 1, 1, 1, 1, 1, 1, 1, 1, 1, 1,\n",
       "       1, 1, 1, 2, 2, 1, 2, 1, 1, 1, 1, 1, 1, 1, 1, 2, 2, 1, 1, 1, 1, 2,\n",
       "       2, 1, 1, 1, 1, 1, 1, 1, 1, 2, 2, 1, 1, 3, 1, 1, 2, 1, 3, 1, 1, 3,\n",
       "       1, 1, 1, 1, 2, 1, 1, 1, 1, 1, 1, 2, 2])"
      ]
     },
     "execution_count": 441,
     "metadata": {},
     "output_type": "execute_result"
    }
   ],
   "source": [
    "clf.predict(X_test) "
   ]
  },
  {
   "cell_type": "code",
   "execution_count": 442,
   "id": "9c089631",
   "metadata": {},
   "outputs": [
    {
     "data": {
      "text/plain": [
       "0.9807321772639692"
      ]
     },
     "execution_count": 442,
     "metadata": {},
     "output_type": "execute_result"
    }
   ],
   "source": [
    "clf.score(X_test, y_test)"
   ]
  },
  {
   "cell_type": "code",
   "execution_count": 443,
   "id": "e01a73e2",
   "metadata": {},
   "outputs": [],
   "source": [
    "from sklearn.model_selection import GridSearchCV\n",
    "\n",
    "parameters = {'max_depth':[1,2,3,5,10,20,50,75,100], 'min_samples_leaf':[1,2,3,5,10,20,50]}\n",
    "\n",
    "clf = GridSearchCV(clf, parameters)"
   ]
  },
  {
   "cell_type": "code",
   "execution_count": 444,
   "id": "c2d6ef7c",
   "metadata": {},
   "outputs": [
    {
     "data": {
      "text/plain": [
       "{'max_depth': 50, 'min_samples_leaf': 1}"
      ]
     },
     "execution_count": 444,
     "metadata": {},
     "output_type": "execute_result"
    }
   ],
   "source": [
    "clf.fit(X_train, y_train)\n",
    "clf.best_params_"
   ]
  },
  {
   "cell_type": "code",
   "execution_count": null,
   "id": "b0535e94",
   "metadata": {},
   "outputs": [],
   "source": []
  },
  {
   "cell_type": "code",
   "execution_count": 464,
   "id": "fe61ddaa",
   "metadata": {},
   "outputs": [
    {
     "name": "stderr",
     "output_type": "stream",
     "text": [
      "No handles with labels found to put in legend.\n"
     ]
    },
    {
     "data": {
      "image/png": "[encoded data removed]",
      "text/plain": [
       "<Figure size 432x288 with 1 Axes>"
      ]
     },
     "metadata": {
      "needs_background": "light"
     },
     "output_type": "display_data"
    }
   ],
   "source": [
    "import numpy as np \n",
    "import matplotlib.pyplot as plt \n",
    " \n",
    "# Paramètres \n",
    "n_classes = 4\n",
    "plot_colors = \"bry\" # blue-red-yellow \n",
    "plot_step = 0.02 \n",
    " \n",
    "# Choisir les attributs longueur et largeur des pétales \n",
    "pair = [2, 3] \n",
    " \n",
    "X = val[:,0:6]\n",
    "y = val[:,6]\n",
    "# On ne garde seulement les deux attributs \n",
    "X = X[:, pair] \n",
    "y = y \n",
    " \n",
    "# Apprentissage de l'arbre \n",
    "clf = tree.DecisionTreeClassifier().fit(X, y) \n",
    " \n",
    "# Affichage de la surface de décision \n",
    "x_min, x_max = X[:, 0].min() - 1, X[:, 0].max() + 1\n",
    "y_min, y_max = X[:, 1].min() - 1, X[:, 1].max() + 1 \n",
    "xx,  yy  =  np.meshgrid(np.arange(x_min,  x_max,  plot_step),  np.arange(y_min, \n",
    "y_max, plot_step)) \n",
    "Z = clf.predict(np.c_[xx.ravel(), yy.ravel()]) \n",
    "Z = Z.reshape(xx.shape) \n",
    "cs = plt.contourf(xx, yy, Z, cmap=plt.cm.Paired) \n",
    "plt.xlabel(iris.feature_names[pair[0]]) \n",
    "plt.ylabel(iris.feature_names[pair[1]]) \n",
    "plt.axis(\"tight\") \n",
    " \n",
    "# Affichage des points d'apprentissage \n",
    "for i, color in zip(range(n_classes), plot_colors): \n",
    "    idx = np.where(y == i) \n",
    "    plt.scatter(X[idx,  0],  X[idx,  1],  c=color, \n",
    "cmap=plt.cm.Paired) \n",
    "plt.axis(\"tight\") \n",
    "plt.suptitle(\"Decision surface of a decision tree using paired features\") \n",
    "plt.legend() \n",
    "plt.show()"
   ]
  },
  {
   "cell_type": "code",
   "execution_count": null,
   "id": "35b425a0",
   "metadata": {},
   "outputs": [],
   "source": []
  }
 ],
 "metadata": {
  "kernelspec": {
   "display_name": "Python 3 (ipykernel)",
   "language": "python",
   "name": "python3"
  },
  "language_info": {
   "codemirror_mode": {
    "name": "ipython",
    "version": 3
   },
   "file_extension": ".py",
   "mimetype": "text/x-python",
   "name": "python",
   "nbconvert_exporter": "python",
   "pygments_lexer": "ipython3",
   "version": "3.9.7"
  }
 },
 "nbformat": 4,
 "nbformat_minor": 5
}
